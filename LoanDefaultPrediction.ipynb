{
 "cells": [
  {
   "cell_type": "code",
   "execution_count": 39,
   "id": "944b582e-d830-418d-b7fd-314063cb3330",
   "metadata": {},
   "outputs": [],
   "source": [
    "import pandas as pd\n",
    "import numpy as np"
   ]
  },
  {
   "cell_type": "code",
   "execution_count": 40,
   "id": "28a6aee0-9886-4987-b432-0161b880fbab",
   "metadata": {},
   "outputs": [],
   "source": [
    "df=pd.read_csv('loan_data.csv')"
   ]
  },
  {
   "cell_type": "code",
   "execution_count": 41,
   "id": "31ca9f85-133d-420c-bebe-09e5d2b9b055",
   "metadata": {},
   "outputs": [
    {
     "data": {
      "text/html": [
       "<div>\n",
       "<style scoped>\n",
       "    .dataframe tbody tr th:only-of-type {\n",
       "        vertical-align: middle;\n",
       "    }\n",
       "\n",
       "    .dataframe tbody tr th {\n",
       "        vertical-align: top;\n",
       "    }\n",
       "\n",
       "    .dataframe thead th {\n",
       "        text-align: right;\n",
       "    }\n",
       "</style>\n",
       "<table border=\"1\" class=\"dataframe\">\n",
       "  <thead>\n",
       "    <tr style=\"text-align: right;\">\n",
       "      <th></th>\n",
       "      <th>Loan_ID</th>\n",
       "      <th>Gender</th>\n",
       "      <th>Married</th>\n",
       "      <th>Dependents</th>\n",
       "      <th>Education</th>\n",
       "      <th>Self_Employed</th>\n",
       "      <th>ApplicantIncome</th>\n",
       "      <th>CoapplicantIncome</th>\n",
       "      <th>LoanAmount</th>\n",
       "      <th>Loan_Amount_Term</th>\n",
       "      <th>Credit_History</th>\n",
       "      <th>Property_Area</th>\n",
       "      <th>Loan_Status</th>\n",
       "    </tr>\n",
       "  </thead>\n",
       "  <tbody>\n",
       "    <tr>\n",
       "      <th>0</th>\n",
       "      <td>LP001003</td>\n",
       "      <td>Male</td>\n",
       "      <td>Yes</td>\n",
       "      <td>1</td>\n",
       "      <td>Graduate</td>\n",
       "      <td>No</td>\n",
       "      <td>4583</td>\n",
       "      <td>1508.0</td>\n",
       "      <td>128.0</td>\n",
       "      <td>360.0</td>\n",
       "      <td>1.0</td>\n",
       "      <td>Rural</td>\n",
       "      <td>N</td>\n",
       "    </tr>\n",
       "    <tr>\n",
       "      <th>1</th>\n",
       "      <td>LP001005</td>\n",
       "      <td>Male</td>\n",
       "      <td>Yes</td>\n",
       "      <td>0</td>\n",
       "      <td>Graduate</td>\n",
       "      <td>Yes</td>\n",
       "      <td>3000</td>\n",
       "      <td>0.0</td>\n",
       "      <td>66.0</td>\n",
       "      <td>360.0</td>\n",
       "      <td>1.0</td>\n",
       "      <td>Urban</td>\n",
       "      <td>Y</td>\n",
       "    </tr>\n",
       "    <tr>\n",
       "      <th>2</th>\n",
       "      <td>LP001006</td>\n",
       "      <td>Male</td>\n",
       "      <td>Yes</td>\n",
       "      <td>0</td>\n",
       "      <td>Not Graduate</td>\n",
       "      <td>No</td>\n",
       "      <td>2583</td>\n",
       "      <td>2358.0</td>\n",
       "      <td>120.0</td>\n",
       "      <td>360.0</td>\n",
       "      <td>1.0</td>\n",
       "      <td>Urban</td>\n",
       "      <td>Y</td>\n",
       "    </tr>\n",
       "    <tr>\n",
       "      <th>3</th>\n",
       "      <td>LP001008</td>\n",
       "      <td>Male</td>\n",
       "      <td>No</td>\n",
       "      <td>0</td>\n",
       "      <td>Graduate</td>\n",
       "      <td>No</td>\n",
       "      <td>6000</td>\n",
       "      <td>0.0</td>\n",
       "      <td>141.0</td>\n",
       "      <td>360.0</td>\n",
       "      <td>1.0</td>\n",
       "      <td>Urban</td>\n",
       "      <td>Y</td>\n",
       "    </tr>\n",
       "    <tr>\n",
       "      <th>4</th>\n",
       "      <td>LP001013</td>\n",
       "      <td>Male</td>\n",
       "      <td>Yes</td>\n",
       "      <td>0</td>\n",
       "      <td>Not Graduate</td>\n",
       "      <td>No</td>\n",
       "      <td>2333</td>\n",
       "      <td>1516.0</td>\n",
       "      <td>95.0</td>\n",
       "      <td>360.0</td>\n",
       "      <td>1.0</td>\n",
       "      <td>Urban</td>\n",
       "      <td>Y</td>\n",
       "    </tr>\n",
       "  </tbody>\n",
       "</table>\n",
       "</div>"
      ],
      "text/plain": [
       "    Loan_ID Gender Married Dependents     Education Self_Employed  \\\n",
       "0  LP001003   Male     Yes          1      Graduate            No   \n",
       "1  LP001005   Male     Yes          0      Graduate           Yes   \n",
       "2  LP001006   Male     Yes          0  Not Graduate            No   \n",
       "3  LP001008   Male      No          0      Graduate            No   \n",
       "4  LP001013   Male     Yes          0  Not Graduate            No   \n",
       "\n",
       "   ApplicantIncome  CoapplicantIncome  LoanAmount  Loan_Amount_Term  \\\n",
       "0             4583             1508.0       128.0             360.0   \n",
       "1             3000                0.0        66.0             360.0   \n",
       "2             2583             2358.0       120.0             360.0   \n",
       "3             6000                0.0       141.0             360.0   \n",
       "4             2333             1516.0        95.0             360.0   \n",
       "\n",
       "   Credit_History Property_Area Loan_Status  \n",
       "0             1.0         Rural           N  \n",
       "1             1.0         Urban           Y  \n",
       "2             1.0         Urban           Y  \n",
       "3             1.0         Urban           Y  \n",
       "4             1.0         Urban           Y  "
      ]
     },
     "execution_count": 41,
     "metadata": {},
     "output_type": "execute_result"
    }
   ],
   "source": [
    "df.head()"
   ]
  },
  {
   "cell_type": "code",
   "execution_count": 42,
   "id": "7dd0ffaf-2d4c-440e-8bde-cbcabeed71cc",
   "metadata": {},
   "outputs": [
    {
     "data": {
      "text/html": [
       "<div>\n",
       "<style scoped>\n",
       "    .dataframe tbody tr th:only-of-type {\n",
       "        vertical-align: middle;\n",
       "    }\n",
       "\n",
       "    .dataframe tbody tr th {\n",
       "        vertical-align: top;\n",
       "    }\n",
       "\n",
       "    .dataframe thead th {\n",
       "        text-align: right;\n",
       "    }\n",
       "</style>\n",
       "<table border=\"1\" class=\"dataframe\">\n",
       "  <thead>\n",
       "    <tr style=\"text-align: right;\">\n",
       "      <th></th>\n",
       "      <th>Loan_ID</th>\n",
       "      <th>Gender</th>\n",
       "      <th>Married</th>\n",
       "      <th>Dependents</th>\n",
       "      <th>Education</th>\n",
       "      <th>Self_Employed</th>\n",
       "      <th>ApplicantIncome</th>\n",
       "      <th>CoapplicantIncome</th>\n",
       "      <th>LoanAmount</th>\n",
       "      <th>Loan_Amount_Term</th>\n",
       "      <th>Credit_History</th>\n",
       "      <th>Property_Area</th>\n",
       "      <th>Loan_Status</th>\n",
       "    </tr>\n",
       "  </thead>\n",
       "  <tbody>\n",
       "    <tr>\n",
       "      <th>0</th>\n",
       "      <td>LP001003</td>\n",
       "      <td>Male</td>\n",
       "      <td>Yes</td>\n",
       "      <td>1</td>\n",
       "      <td>Graduate</td>\n",
       "      <td>No</td>\n",
       "      <td>4583</td>\n",
       "      <td>1508.0</td>\n",
       "      <td>128.0</td>\n",
       "      <td>360.0</td>\n",
       "      <td>1.0</td>\n",
       "      <td>Rural</td>\n",
       "      <td>N</td>\n",
       "    </tr>\n",
       "    <tr>\n",
       "      <th>1</th>\n",
       "      <td>LP001005</td>\n",
       "      <td>Male</td>\n",
       "      <td>Yes</td>\n",
       "      <td>0</td>\n",
       "      <td>Graduate</td>\n",
       "      <td>Yes</td>\n",
       "      <td>3000</td>\n",
       "      <td>0.0</td>\n",
       "      <td>66.0</td>\n",
       "      <td>360.0</td>\n",
       "      <td>1.0</td>\n",
       "      <td>Urban</td>\n",
       "      <td>Y</td>\n",
       "    </tr>\n",
       "    <tr>\n",
       "      <th>2</th>\n",
       "      <td>LP001006</td>\n",
       "      <td>Male</td>\n",
       "      <td>Yes</td>\n",
       "      <td>0</td>\n",
       "      <td>Not Graduate</td>\n",
       "      <td>No</td>\n",
       "      <td>2583</td>\n",
       "      <td>2358.0</td>\n",
       "      <td>120.0</td>\n",
       "      <td>360.0</td>\n",
       "      <td>1.0</td>\n",
       "      <td>Urban</td>\n",
       "      <td>Y</td>\n",
       "    </tr>\n",
       "    <tr>\n",
       "      <th>3</th>\n",
       "      <td>LP001008</td>\n",
       "      <td>Male</td>\n",
       "      <td>No</td>\n",
       "      <td>0</td>\n",
       "      <td>Graduate</td>\n",
       "      <td>No</td>\n",
       "      <td>6000</td>\n",
       "      <td>0.0</td>\n",
       "      <td>141.0</td>\n",
       "      <td>360.0</td>\n",
       "      <td>1.0</td>\n",
       "      <td>Urban</td>\n",
       "      <td>Y</td>\n",
       "    </tr>\n",
       "    <tr>\n",
       "      <th>4</th>\n",
       "      <td>LP001013</td>\n",
       "      <td>Male</td>\n",
       "      <td>Yes</td>\n",
       "      <td>0</td>\n",
       "      <td>Not Graduate</td>\n",
       "      <td>No</td>\n",
       "      <td>2333</td>\n",
       "      <td>1516.0</td>\n",
       "      <td>95.0</td>\n",
       "      <td>360.0</td>\n",
       "      <td>1.0</td>\n",
       "      <td>Urban</td>\n",
       "      <td>Y</td>\n",
       "    </tr>\n",
       "  </tbody>\n",
       "</table>\n",
       "</div>"
      ],
      "text/plain": [
       "    Loan_ID Gender Married Dependents     Education Self_Employed  \\\n",
       "0  LP001003   Male     Yes          1      Graduate            No   \n",
       "1  LP001005   Male     Yes          0      Graduate           Yes   \n",
       "2  LP001006   Male     Yes          0  Not Graduate            No   \n",
       "3  LP001008   Male      No          0      Graduate            No   \n",
       "4  LP001013   Male     Yes          0  Not Graduate            No   \n",
       "\n",
       "   ApplicantIncome  CoapplicantIncome  LoanAmount  Loan_Amount_Term  \\\n",
       "0             4583             1508.0       128.0             360.0   \n",
       "1             3000                0.0        66.0             360.0   \n",
       "2             2583             2358.0       120.0             360.0   \n",
       "3             6000                0.0       141.0             360.0   \n",
       "4             2333             1516.0        95.0             360.0   \n",
       "\n",
       "   Credit_History Property_Area Loan_Status  \n",
       "0             1.0         Rural           N  \n",
       "1             1.0         Urban           Y  \n",
       "2             1.0         Urban           Y  \n",
       "3             1.0         Urban           Y  \n",
       "4             1.0         Urban           Y  "
      ]
     },
     "execution_count": 42,
     "metadata": {},
     "output_type": "execute_result"
    }
   ],
   "source": [
    "pd.options.display.max_columns= None\n",
    "df.head()"
   ]
  },
  {
   "cell_type": "code",
   "execution_count": 43,
   "id": "2b6aa06a-80a0-4a1c-8fc9-3bf40f2c5d9c",
   "metadata": {},
   "outputs": [
    {
     "data": {
      "text/html": [
       "<div>\n",
       "<style scoped>\n",
       "    .dataframe tbody tr th:only-of-type {\n",
       "        vertical-align: middle;\n",
       "    }\n",
       "\n",
       "    .dataframe tbody tr th {\n",
       "        vertical-align: top;\n",
       "    }\n",
       "\n",
       "    .dataframe thead th {\n",
       "        text-align: right;\n",
       "    }\n",
       "</style>\n",
       "<table border=\"1\" class=\"dataframe\">\n",
       "  <thead>\n",
       "    <tr style=\"text-align: right;\">\n",
       "      <th></th>\n",
       "      <th>Loan_ID</th>\n",
       "      <th>Gender</th>\n",
       "      <th>Married</th>\n",
       "      <th>Dependents</th>\n",
       "      <th>Education</th>\n",
       "      <th>Self_Employed</th>\n",
       "      <th>ApplicantIncome</th>\n",
       "      <th>CoapplicantIncome</th>\n",
       "      <th>LoanAmount</th>\n",
       "      <th>Loan_Amount_Term</th>\n",
       "      <th>Credit_History</th>\n",
       "      <th>Property_Area</th>\n",
       "      <th>Loan_Status</th>\n",
       "    </tr>\n",
       "  </thead>\n",
       "  <tbody>\n",
       "    <tr>\n",
       "      <th>376</th>\n",
       "      <td>LP002953</td>\n",
       "      <td>Male</td>\n",
       "      <td>Yes</td>\n",
       "      <td>3+</td>\n",
       "      <td>Graduate</td>\n",
       "      <td>No</td>\n",
       "      <td>5703</td>\n",
       "      <td>0.0</td>\n",
       "      <td>128.0</td>\n",
       "      <td>360.0</td>\n",
       "      <td>1.0</td>\n",
       "      <td>Urban</td>\n",
       "      <td>Y</td>\n",
       "    </tr>\n",
       "    <tr>\n",
       "      <th>377</th>\n",
       "      <td>LP002974</td>\n",
       "      <td>Male</td>\n",
       "      <td>Yes</td>\n",
       "      <td>0</td>\n",
       "      <td>Graduate</td>\n",
       "      <td>No</td>\n",
       "      <td>3232</td>\n",
       "      <td>1950.0</td>\n",
       "      <td>108.0</td>\n",
       "      <td>360.0</td>\n",
       "      <td>1.0</td>\n",
       "      <td>Rural</td>\n",
       "      <td>Y</td>\n",
       "    </tr>\n",
       "    <tr>\n",
       "      <th>378</th>\n",
       "      <td>LP002978</td>\n",
       "      <td>Female</td>\n",
       "      <td>No</td>\n",
       "      <td>0</td>\n",
       "      <td>Graduate</td>\n",
       "      <td>No</td>\n",
       "      <td>2900</td>\n",
       "      <td>0.0</td>\n",
       "      <td>71.0</td>\n",
       "      <td>360.0</td>\n",
       "      <td>1.0</td>\n",
       "      <td>Rural</td>\n",
       "      <td>Y</td>\n",
       "    </tr>\n",
       "    <tr>\n",
       "      <th>379</th>\n",
       "      <td>LP002979</td>\n",
       "      <td>Male</td>\n",
       "      <td>Yes</td>\n",
       "      <td>3+</td>\n",
       "      <td>Graduate</td>\n",
       "      <td>No</td>\n",
       "      <td>4106</td>\n",
       "      <td>0.0</td>\n",
       "      <td>40.0</td>\n",
       "      <td>180.0</td>\n",
       "      <td>1.0</td>\n",
       "      <td>Rural</td>\n",
       "      <td>Y</td>\n",
       "    </tr>\n",
       "    <tr>\n",
       "      <th>380</th>\n",
       "      <td>LP002990</td>\n",
       "      <td>Female</td>\n",
       "      <td>No</td>\n",
       "      <td>0</td>\n",
       "      <td>Graduate</td>\n",
       "      <td>Yes</td>\n",
       "      <td>4583</td>\n",
       "      <td>0.0</td>\n",
       "      <td>133.0</td>\n",
       "      <td>360.0</td>\n",
       "      <td>0.0</td>\n",
       "      <td>Semiurban</td>\n",
       "      <td>N</td>\n",
       "    </tr>\n",
       "  </tbody>\n",
       "</table>\n",
       "</div>"
      ],
      "text/plain": [
       "      Loan_ID  Gender Married Dependents Education Self_Employed  \\\n",
       "376  LP002953    Male     Yes         3+  Graduate            No   \n",
       "377  LP002974    Male     Yes          0  Graduate            No   \n",
       "378  LP002978  Female      No          0  Graduate            No   \n",
       "379  LP002979    Male     Yes         3+  Graduate            No   \n",
       "380  LP002990  Female      No          0  Graduate           Yes   \n",
       "\n",
       "     ApplicantIncome  CoapplicantIncome  LoanAmount  Loan_Amount_Term  \\\n",
       "376             5703                0.0       128.0             360.0   \n",
       "377             3232             1950.0       108.0             360.0   \n",
       "378             2900                0.0        71.0             360.0   \n",
       "379             4106                0.0        40.0             180.0   \n",
       "380             4583                0.0       133.0             360.0   \n",
       "\n",
       "     Credit_History Property_Area Loan_Status  \n",
       "376             1.0         Urban           Y  \n",
       "377             1.0         Rural           Y  \n",
       "378             1.0         Rural           Y  \n",
       "379             1.0         Rural           Y  \n",
       "380             0.0     Semiurban           N  "
      ]
     },
     "execution_count": 43,
     "metadata": {},
     "output_type": "execute_result"
    }
   ],
   "source": [
    "df.tail()"
   ]
  },
  {
   "cell_type": "code",
   "execution_count": 44,
   "id": "bef6b119-b4ba-40ff-bae3-bfc3ec7e8c53",
   "metadata": {},
   "outputs": [
    {
     "data": {
      "text/plain": [
       "(381, 13)"
      ]
     },
     "execution_count": 44,
     "metadata": {},
     "output_type": "execute_result"
    }
   ],
   "source": [
    "df.shape"
   ]
  },
  {
   "cell_type": "code",
   "execution_count": 45,
   "id": "00eca86c-5073-4855-a31e-7020b4d946de",
   "metadata": {},
   "outputs": [
    {
     "name": "stdout",
     "output_type": "stream",
     "text": [
      "<class 'pandas.core.frame.DataFrame'>\n",
      "RangeIndex: 381 entries, 0 to 380\n",
      "Data columns (total 13 columns):\n",
      " #   Column             Non-Null Count  Dtype  \n",
      "---  ------             --------------  -----  \n",
      " 0   Loan_ID            381 non-null    object \n",
      " 1   Gender             376 non-null    object \n",
      " 2   Married            381 non-null    object \n",
      " 3   Dependents         373 non-null    object \n",
      " 4   Education          381 non-null    object \n",
      " 5   Self_Employed      360 non-null    object \n",
      " 6   ApplicantIncome    381 non-null    int64  \n",
      " 7   CoapplicantIncome  381 non-null    float64\n",
      " 8   LoanAmount         381 non-null    float64\n",
      " 9   Loan_Amount_Term   370 non-null    float64\n",
      " 10  Credit_History     351 non-null    float64\n",
      " 11  Property_Area      381 non-null    object \n",
      " 12  Loan_Status        381 non-null    object \n",
      "dtypes: float64(4), int64(1), object(8)\n",
      "memory usage: 38.8+ KB\n"
     ]
    }
   ],
   "source": [
    "df.info()"
   ]
  },
  {
   "cell_type": "code",
   "execution_count": 49,
   "id": "f7610876-a0fe-44ae-afa1-8596d4bb240b",
   "metadata": {},
   "outputs": [
    {
     "data": {
      "text/plain": [
       "Gender                5\n",
       "Married               0\n",
       "Dependents            8\n",
       "Education             0\n",
       "Self_Employed        21\n",
       "ApplicantIncome       0\n",
       "CoapplicantIncome     0\n",
       "LoanAmount            0\n",
       "Loan_Amount_Term     11\n",
       "Credit_History       30\n",
       "Property_Area         0\n",
       "Loan_Status           0\n",
       "dtype: int64"
      ]
     },
     "execution_count": 49,
     "metadata": {},
     "output_type": "execute_result"
    }
   ],
   "source": [
    "df.isnull().sum()"
   ]
  },
  {
   "cell_type": "code",
   "execution_count": 64,
   "id": "747f1bda-a1af-4465-9d9e-916f938d26f1",
   "metadata": {},
   "outputs": [
    {
     "name": "stdout",
     "output_type": "stream",
     "text": [
      "<class 'pandas.core.frame.DataFrame'>\n",
      "RangeIndex: 381 entries, 0 to 380\n",
      "Data columns (total 13 columns):\n",
      " #   Column             Non-Null Count  Dtype  \n",
      "---  ------             --------------  -----  \n",
      " 0   Loan_ID            381 non-null    object \n",
      " 1   Gender             376 non-null    object \n",
      " 2   Married            381 non-null    object \n",
      " 3   Dependents         373 non-null    object \n",
      " 4   Education          381 non-null    object \n",
      " 5   Self_Employed      360 non-null    object \n",
      " 6   ApplicantIncome    381 non-null    int64  \n",
      " 7   CoapplicantIncome  381 non-null    float64\n",
      " 8   LoanAmount         381 non-null    float64\n",
      " 9   Loan_Amount_Term   370 non-null    float64\n",
      " 10  Credit_History     351 non-null    float64\n",
      " 11  Property_Area      381 non-null    object \n",
      " 12  Loan_Status        381 non-null    object \n",
      "dtypes: float64(4), int64(1), object(8)\n",
      "memory usage: 38.8+ KB\n"
     ]
    },
    {
     "data": {
      "text/plain": [
       "(None,\n",
       "     Loan_ID Gender Married Dependents     Education Self_Employed  \\\n",
       " 0  LP001003   Male     Yes          1      Graduate            No   \n",
       " 1  LP001005   Male     Yes          0      Graduate           Yes   \n",
       " 2  LP001006   Male     Yes          0  Not Graduate            No   \n",
       " 3  LP001008   Male      No          0      Graduate            No   \n",
       " 4  LP001013   Male     Yes          0  Not Graduate            No   \n",
       " \n",
       "    ApplicantIncome  CoapplicantIncome  LoanAmount  Loan_Amount_Term  \\\n",
       " 0             4583             1508.0       128.0             360.0   \n",
       " 1             3000                0.0        66.0             360.0   \n",
       " 2             2583             2358.0       120.0             360.0   \n",
       " 3             6000                0.0       141.0             360.0   \n",
       " 4             2333             1516.0        95.0             360.0   \n",
       " \n",
       "    Credit_History Property_Area Loan_Status  \n",
       " 0             1.0         Rural           N  \n",
       " 1             1.0         Urban           Y  \n",
       " 2             1.0         Urban           Y  \n",
       " 3             1.0         Urban           Y  \n",
       " 4             1.0         Urban           Y  )"
      ]
     },
     "execution_count": 64,
     "metadata": {},
     "output_type": "execute_result"
    }
   ],
   "source": [
    "import pandas as pd\n",
    "\n",
    "\n",
    "df = pd.read_csv('loan_data.csv')\n",
    "\n",
    "# Display basic info and check for class imbalance\n",
    "df.info(), df.head()\n"
   ]
  },
  {
   "cell_type": "code",
   "execution_count": 66,
   "id": "70e91da3-a160-414e-8133-176ce76399ad",
   "metadata": {},
   "outputs": [
    {
     "data": {
      "text/plain": [
       "Loan_Status\n",
       "Y    71.128609\n",
       "N    28.871391\n",
       "Name: proportion, dtype: float64"
      ]
     },
     "execution_count": 66,
     "metadata": {},
     "output_type": "execute_result"
    }
   ],
   "source": [
    "# Check class distribution\n",
    "class_distribution = df[\"Loan_Status\"].value_counts(normalize=True) * 100\n",
    "class_distribution\n"
   ]
  },
  {
   "cell_type": "code",
   "execution_count": 70,
   "id": "78b8199f-ec68-4bd4-a11b-9a7288ac47cd",
   "metadata": {},
   "outputs": [
    {
     "data": {
      "text/plain": [
       "np.int64(41)"
      ]
     },
     "execution_count": 70,
     "metadata": {},
     "output_type": "execute_result"
    }
   ],
   "source": [
    "# Check for any remaining NaN values in X before applying SMOTE\n",
    "missing_values = X.isnull().sum().sum()\n",
    "missing_values\n"
   ]
  },
  {
   "cell_type": "code",
   "execution_count": 89,
   "id": "0db315d3-99de-41af-a193-c3c4a0dba074",
   "metadata": {},
   "outputs": [
    {
     "data": {
      "text/plain": [
       "np.int64(0)"
      ]
     },
     "execution_count": 89,
     "metadata": {},
     "output_type": "execute_result"
    }
   ],
   "source": [
    "# Redefine features (X) and target (y)\n",
    "X = df.drop(columns=[\"Loan_Status\"])  # Features\n",
    "y = df[\"Loan_Status\"].map({\"Y\": 1, \"N\": 0})  # Convert target to binary\n",
    "\n",
    "# Encode categorical variables using one-hot encoding\n",
    "X = pd.get_dummies(X, drop_first=True)\n",
    "\n",
    "# Ensure no missing values remain by imputing again\n",
    "X = X.fillna(X.mean())\n",
    "\n",
    "# Verify no missing values exist\n",
    "X.isnull().sum().sum()\n"
   ]
  },
  {
   "cell_type": "code",
   "execution_count": 85,
   "id": "588ee6ae-d7d2-46bc-a6a9-6f9306f3faf3",
   "metadata": {},
   "outputs": [
    {
     "name": "stdout",
     "output_type": "stream",
     "text": [
      "<class 'pandas.core.frame.DataFrame'>\n",
      "RangeIndex: 381 entries, 0 to 380\n",
      "Data columns (total 13 columns):\n",
      " #   Column             Non-Null Count  Dtype  \n",
      "---  ------             --------------  -----  \n",
      " 0   Loan_ID            381 non-null    object \n",
      " 1   Gender             376 non-null    object \n",
      " 2   Married            381 non-null    object \n",
      " 3   Dependents         373 non-null    object \n",
      " 4   Education          381 non-null    object \n",
      " 5   Self_Employed      360 non-null    object \n",
      " 6   ApplicantIncome    381 non-null    int64  \n",
      " 7   CoapplicantIncome  381 non-null    float64\n",
      " 8   LoanAmount         381 non-null    float64\n",
      " 9   Loan_Amount_Term   370 non-null    float64\n",
      " 10  Credit_History     351 non-null    float64\n",
      " 11  Property_Area      381 non-null    object \n",
      " 12  Loan_Status        381 non-null    object \n",
      "dtypes: float64(4), int64(1), object(8)\n",
      "memory usage: 38.8+ KB\n"
     ]
    },
    {
     "data": {
      "text/plain": [
       "(None,\n",
       "     Loan_ID Gender Married Dependents     Education Self_Employed  \\\n",
       " 0  LP001003   Male     Yes          1      Graduate            No   \n",
       " 1  LP001005   Male     Yes          0      Graduate           Yes   \n",
       " 2  LP001006   Male     Yes          0  Not Graduate            No   \n",
       " 3  LP001008   Male      No          0      Graduate            No   \n",
       " 4  LP001013   Male     Yes          0  Not Graduate            No   \n",
       " \n",
       "    ApplicantIncome  CoapplicantIncome  LoanAmount  Loan_Amount_Term  \\\n",
       " 0             4583             1508.0       128.0             360.0   \n",
       " 1             3000                0.0        66.0             360.0   \n",
       " 2             2583             2358.0       120.0             360.0   \n",
       " 3             6000                0.0       141.0             360.0   \n",
       " 4             2333             1516.0        95.0             360.0   \n",
       " \n",
       "    Credit_History Property_Area Loan_Status  \n",
       " 0             1.0         Rural           N  \n",
       " 1             1.0         Urban           Y  \n",
       " 2             1.0         Urban           Y  \n",
       " 3             1.0         Urban           Y  \n",
       " 4             1.0         Urban           Y  )"
      ]
     },
     "execution_count": 85,
     "metadata": {},
     "output_type": "execute_result"
    }
   ],
   "source": [
    "# Re-load the dataset\n",
    "df = pd.read_csv(\"loan_data.csv\")\n",
    "\n",
    "# Display basic info and first few rows\n",
    "df.info(), df.head()\n"
   ]
  },
  {
   "cell_type": "code",
   "execution_count": 86,
   "id": "3c111e83-0caf-4e53-a58a-cc8ffb5bfb2f",
   "metadata": {},
   "outputs": [
    {
     "data": {
      "text/plain": [
       "(np.int64(0),\n",
       "    ApplicantIncome  CoapplicantIncome  LoanAmount  Loan_Amount_Term  \\\n",
       " 0             4583             1508.0       128.0             360.0   \n",
       " 1             3000                0.0        66.0             360.0   \n",
       " 2             2583             2358.0       120.0             360.0   \n",
       " 3             6000                0.0       141.0             360.0   \n",
       " 4             2333             1516.0        95.0             360.0   \n",
       " \n",
       "    Credit_History  Loan_Status  Gender_Male  Married_Yes  Dependents_1  \\\n",
       " 0             1.0            0         True         True          True   \n",
       " 1             1.0            1         True         True         False   \n",
       " 2             1.0            1         True         True         False   \n",
       " 3             1.0            1         True        False         False   \n",
       " 4             1.0            1         True         True         False   \n",
       " \n",
       "    Dependents_2  Dependents_3+  Education_Not Graduate  Self_Employed_Yes  \\\n",
       " 0         False          False                   False              False   \n",
       " 1         False          False                   False               True   \n",
       " 2         False          False                    True              False   \n",
       " 3         False          False                   False              False   \n",
       " 4         False          False                    True              False   \n",
       " \n",
       "    Property_Area_Semiurban  Property_Area_Urban  \n",
       " 0                    False                False  \n",
       " 1                    False                 True  \n",
       " 2                    False                 True  \n",
       " 3                    False                 True  \n",
       " 4                    False                 True  )"
      ]
     },
     "execution_count": 86,
     "metadata": {},
     "output_type": "execute_result"
    }
   ],
   "source": [
    "# Drop Loan_ID as it is not useful for prediction\n",
    "df = df.drop(columns=[\"Loan_ID\"])\n",
    "\n",
    "# Separate numerical and categorical columns\n",
    "num_cols = df.select_dtypes(include=[\"number\"]).columns\n",
    "cat_cols = df.select_dtypes(include=[\"object\"]).columns\n",
    "\n",
    "# Fill missing values: Numerical -> Mean, Categorical -> Mode\n",
    "df[num_cols] = df[num_cols].fillna(df[num_cols].mean())\n",
    "df[cat_cols] = df[cat_cols].apply(lambda x: x.fillna(x.mode()[0]))\n",
    "\n",
    "# Convert target variable to binary (Y = 1, N = 0)\n",
    "df[\"Loan_Status\"] = df[\"Loan_Status\"].map({\"Y\": 1, \"N\": 0})\n",
    "\n",
    "# One-hot encode categorical variables\n",
    "df = pd.get_dummies(df, drop_first=True)\n",
    "\n",
    "# Verify preprocessing is complete\n",
    "df.isnull().sum().sum(), df.head()\n"
   ]
  },
  {
   "cell_type": "code",
   "execution_count": 87,
   "id": "3607d2ec-68a8-481c-8c15-aa3836302459",
   "metadata": {},
   "outputs": [
    {
     "data": {
      "text/plain": [
       "Loan_Status\n",
       "0    50.0\n",
       "1    50.0\n",
       "Name: proportion, dtype: float64"
      ]
     },
     "execution_count": 87,
     "metadata": {},
     "output_type": "execute_result"
    }
   ],
   "source": [
    "# Import necessary libraries for SMOTE and model training\n",
    "from imblearn.over_sampling import SMOTE\n",
    "from sklearn.model_selection import train_test_split\n",
    "from sklearn.preprocessing import StandardScaler\n",
    "\n",
    "# Define features (X) and target (y)\n",
    "X = df.drop(columns=[\"Loan_Status\"])\n",
    "y = df[\"Loan_Status\"]\n",
    "\n",
    "# Split data into training and testing sets (80% train, 20% test)\n",
    "X_train, X_test, y_train, y_test = train_test_split(X, y, test_size=0.2, random_state=42, stratify=y)\n",
    "\n",
    "# Apply SMOTE to balance the classes in training data\n",
    "smote = SMOTE(random_state=42)\n",
    "X_train_resampled, y_train_resampled = smote.fit_resample(X_train, y_train)\n",
    "\n",
    "# Standardize the features (especially for SVM)\n",
    "scaler = StandardScaler()\n",
    "X_train_resampled = scaler.fit_transform(X_train_resampled)\n",
    "X_test = scaler.transform(X_test)\n",
    "\n",
    "# Verify new class distribution after SMOTE\n",
    "y_train_resampled.value_counts(normalize=True) * 100\n"
   ]
  },
  {
   "cell_type": "code",
   "execution_count": 98,
   "id": "77a208ec-a41a-40a6-b441-9c6747509ce8",
   "metadata": {},
   "outputs": [
    {
     "name": "stdout",
     "output_type": "stream",
     "text": [
      "Random Forest Model Performance:\n",
      "               precision    recall  f1-score   support\n",
      "\n",
      "           0       0.52      0.73      0.60        22\n",
      "           1       0.87      0.73      0.79        55\n",
      "\n",
      "    accuracy                           0.73        77\n",
      "   macro avg       0.69      0.73      0.70        77\n",
      "weighted avg       0.77      0.73      0.74        77\n",
      "\n"
     ]
    },
    {
     "name": "stderr",
     "output_type": "stream",
     "text": [
      "C:\\Users\\Admin\\PycharmProjects\\pythonProject2\\.venv\\Lib\\site-packages\\sklearn\\utils\\validation.py:2739: UserWarning: X does not have valid feature names, but RandomForestClassifier was fitted with feature names\n",
      "  warnings.warn(\n"
     ]
    }
   ],
   "source": [
    "from sklearn.ensemble import RandomForestClassifier\n",
    "from sklearn.metrics import classification_report\n",
    "\n",
    "# Train a Random Forest Classifier\n",
    "rf_model = RandomForestClassifier(n_estimators=100, random_state=42)\n",
    "rf_model.fit(X_train, y_train)\n",
    "y_pred_rf = rf_model.predict(X_test)\n",
    "\n",
    "# Evaluate performance using Precision, Recall, and F1 Score\n",
    "print(\"Random Forest Model Performance:\\n\", classification_report(y_test, y_pred_rf))\n"
   ]
  },
  {
   "cell_type": "code",
   "execution_count": null,
   "id": "3e628ed9-1bff-4a08-92b5-3e85a645f1c2",
   "metadata": {},
   "outputs": [],
   "source": []
  }
 ],
 "metadata": {
  "kernelspec": {
   "display_name": "Python 3 (ipykernel)",
   "language": "python",
   "name": "python3"
  },
  "language_info": {
   "codemirror_mode": {
    "name": "ipython",
    "version": 3
   },
   "file_extension": ".py",
   "mimetype": "text/x-python",
   "name": "python",
   "nbconvert_exporter": "python",
   "pygments_lexer": "ipython3",
   "version": "3.12.6"
  }
 },
 "nbformat": 4,
 "nbformat_minor": 5
}
